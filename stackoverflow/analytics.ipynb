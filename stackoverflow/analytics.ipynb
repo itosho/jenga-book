{
 "cells": [
  {
   "cell_type": "code",
   "execution_count": 8,
   "metadata": {},
   "outputs": [
    {
     "name": "stdout",
     "output_type": "stream",
     "text": [
      "<class 'pandas.core.frame.DataFrame'>\n",
      "RangeIndex: 98855 entries, 0 to 98854\n",
      "Columns: 129 entries, Respondent to SurveyEasy\n",
      "dtypes: float64(41), int64(1), object(87)\n",
      "memory usage: 97.3+ MB\n"
     ]
    }
   ],
   "source": [
    "import pandas as pd\n",
    "df = pd.read_csv('survey_results_public.csv', low_memory=False)\n",
    "df.info()"
   ]
  },
  {
   "cell_type": "code",
   "execution_count": 11,
   "metadata": {},
   "outputs": [
    {
     "name": "stdout",
     "output_type": "stream",
     "text": [
      "69\n"
     ]
    }
   ],
   "source": [
    "import numpy as np\n",
    "category_columns = [\n",
    "    column for column in df.columns if df[column].nunique() < 100 and df[column].dtype == np.dtype('O')\n",
    "]\n",
    "print(len(category_columns))"
   ]
  },
  {
   "cell_type": "code",
   "execution_count": 12,
   "metadata": {},
   "outputs": [],
   "source": [
    "for column in category_columns:\n",
    "    df[column] = df[column].astype('category')"
   ]
  },
  {
   "cell_type": "code",
   "execution_count": 17,
   "metadata": {},
   "outputs": [],
   "source": [
    "import json\n",
    "data_dtypes = {column:str(df[column].dtype) for column in df.columns}\n",
    "json.dump(data_dtypes, open('data_dtypes.json', 'w'))"
   ]
  },
  {
   "cell_type": "code",
   "execution_count": 18,
   "metadata": {},
   "outputs": [
    {
     "name": "stdout",
     "output_type": "stream",
     "text": [
      "<class 'pandas.core.frame.DataFrame'>\n",
      "RangeIndex: 98855 entries, 0 to 98854\n",
      "Columns: 129 entries, Respondent to SurveyEasy\n",
      "dtypes: category(69), float64(41), int64(1), object(18)\n",
      "memory usage: 51.8+ MB\n"
     ]
    }
   ],
   "source": [
    "df = pd.read_csv('survey_results_public.csv', dtype=json.load(open('data_dtypes.json')), low_memory=False)\n",
    "df.info()"
   ]
  },
  {
   "cell_type": "code",
   "execution_count": 25,
   "metadata": {},
   "outputs": [
    {
     "data": {
      "text/plain": [
       "['Assembly',\n",
       " 'Bash/Shell',\n",
       " 'C',\n",
       " 'C#',\n",
       " 'C++',\n",
       " 'CSS',\n",
       " 'Clojure',\n",
       " 'Cobol',\n",
       " 'CoffeeScript',\n",
       " 'Delphi/Object Pascal',\n",
       " 'Erlang',\n",
       " 'F#',\n",
       " 'Go',\n",
       " 'Groovy',\n",
       " 'HTML',\n",
       " 'Hack',\n",
       " 'Haskell',\n",
       " 'Java',\n",
       " 'JavaScript',\n",
       " 'Julia',\n",
       " 'Kotlin',\n",
       " 'Lua',\n",
       " 'Matlab',\n",
       " 'Objective-C',\n",
       " 'Ocaml',\n",
       " 'PHP',\n",
       " 'Perl',\n",
       " 'Python',\n",
       " 'R',\n",
       " 'Ruby',\n",
       " 'Rust',\n",
       " 'SQL',\n",
       " 'Scala',\n",
       " 'Swift',\n",
       " 'TypeScript',\n",
       " 'VB.NET',\n",
       " 'VBA',\n",
       " 'Visual Basic 6']"
      ]
     },
     "execution_count": 25,
     "metadata": {},
     "output_type": "execute_result"
    }
   ],
   "source": [
    "language_worked_with = df.LanguageWorkedWith.str.split(';', expand=True)\n",
    "languages = set()\n",
    "for values in language_worked_with.values:\n",
    "    for value in values:\n",
    "        if isinstance(value, str):\n",
    "            languages.add(value)\n",
    "languages = sorted(list(languages))\n",
    "languages"
   ]
  },
  {
   "cell_type": "code",
   "execution_count": 27,
   "metadata": {},
   "outputs": [],
   "source": [
    "def language_dummy_variable(languages):\n",
    "    def _(x):\n",
    "        x = set(x.tolist())\n",
    "        return pd.Series([\n",
    "            True if language in x else False\n",
    "            for language in languages\n",
    "        ])\n",
    "    return _\n",
    "\n",
    "sorted_language_worked_with = language_worked_with.apply(language_dummy_variable(languages), axis=1)\n",
    "sorted_language_worked_with.columns = ['languageWorkedWith_' + language for language in languages]"
   ]
  },
  {
   "cell_type": "code",
   "execution_count": 40,
   "metadata": {},
   "outputs": [
    {
     "data": {
      "text/plain": [
       "languageWorkedWith_JavaScript              54686\n",
       "languageWorkedWith_HTML                    53628\n",
       "languageWorkedWith_CSS                     50979\n",
       "languageWorkedWith_SQL                     44670\n",
       "languageWorkedWith_Java                    35521\n",
       "languageWorkedWith_Bash/Shell              31172\n",
       "languageWorkedWith_Python                  30359\n",
       "languageWorkedWith_C#                      26954\n",
       "languageWorkedWith_PHP                     24071\n",
       "languageWorkedWith_C++                     19872\n",
       "languageWorkedWith_C                       18042\n",
       "languageWorkedWith_TypeScript              13626\n",
       "languageWorkedWith_Ruby                     7911\n",
       "languageWorkedWith_Swift                    6310\n",
       "languageWorkedWith_Assembly                 5760\n",
       "languageWorkedWith_Go                       5532\n",
       "languageWorkedWith_Objective-C              5510\n",
       "languageWorkedWith_VB.NET                   5254\n",
       "languageWorkedWith_R                        4813\n",
       "languageWorkedWith_Matlab                   4564\n",
       "languageWorkedWith_VBA                      3810\n",
       "languageWorkedWith_Kotlin                   3508\n",
       "languageWorkedWith_Scala                    3420\n",
       "languageWorkedWith_Groovy                   3373\n",
       "languageWorkedWith_Perl                     3280\n",
       "languageWorkedWith_Visual Basic 6           3087\n",
       "languageWorkedWith_Lua                      2733\n",
       "languageWorkedWith_CoffeeScript             2603\n",
       "languageWorkedWith_Delphi/Object Pascal     2025\n",
       "languageWorkedWith_Haskell                  1961\n",
       "languageWorkedWith_Rust                     1857\n",
       "languageWorkedWith_F#                       1115\n",
       "languageWorkedWith_Clojure                  1032\n",
       "languageWorkedWith_Erlang                    886\n",
       "languageWorkedWith_Cobol                     590\n",
       "languageWorkedWith_Ocaml                     470\n",
       "languageWorkedWith_Julia                     430\n",
       "languageWorkedWith_Hack                      254\n",
       "dtype: int64"
      ]
     },
     "execution_count": 40,
     "metadata": {},
     "output_type": "execute_result"
    }
   ],
   "source": [
    "sorted_language_worked_with.sum().sort_values(ascending=False)\n",
    "# np.where(sorted_language_worked_with.sum().sort_values(ascending=False).index == 'languageWorkedWith_Python')"
   ]
  },
  {
   "cell_type": "code",
   "execution_count": 41,
   "metadata": {},
   "outputs": [
    {
     "name": "stdout",
     "output_type": "stream",
     "text": [
      "<class 'pandas.core.frame.DataFrame'>\n",
      "RangeIndex: 98855 entries, 0 to 98854\n",
      "Columns: 167 entries, Respondent to languageWorkedWith_Visual Basic 6\n",
      "dtypes: bool(38), category(69), float64(41), int64(1), object(18)\n",
      "memory usage: 55.4+ MB\n"
     ]
    }
   ],
   "source": [
    "df = pd.concat([df, sorted_language_worked_with], axis=1)\n",
    "df.info()"
   ]
  },
  {
   "cell_type": "code",
   "execution_count": 43,
   "metadata": {},
   "outputs": [],
   "source": [
    "def student_yes_or_no(x):\n",
    "    if isinstance(x, float):\n",
    "        return 'Unknown'\n",
    "    elif x == 'No':\n",
    "        return 'No'\n",
    "    else:\n",
    "        return 'Yes'"
   ]
  },
  {
   "cell_type": "code",
   "execution_count": 44,
   "metadata": {},
   "outputs": [],
   "source": [
    "df['Student_1'] = df.Student.map(student_yes_or_no)"
   ]
  },
  {
   "cell_type": "code",
   "execution_count": 45,
   "metadata": {},
   "outputs": [
    {
     "name": "stdout",
     "output_type": "stream",
     "text": [
      "<class 'pandas.core.frame.DataFrame'>\n",
      "RangeIndex: 98855 entries, 0 to 98854\n",
      "Columns: 168 entries, Respondent to Student_1\n",
      "dtypes: bool(38), category(69), float64(41), int64(1), object(19)\n",
      "memory usage: 56.1+ MB\n"
     ]
    }
   ],
   "source": [
    "df.info()"
   ]
  },
  {
   "cell_type": "code",
   "execution_count": 55,
   "metadata": {},
   "outputs": [
    {
     "data": {
      "text/html": [
       "<div>\n",
       "<style scoped>\n",
       "    .dataframe tbody tr th:only-of-type {\n",
       "        vertical-align: middle;\n",
       "    }\n",
       "\n",
       "    .dataframe tbody tr th {\n",
       "        vertical-align: top;\n",
       "    }\n",
       "\n",
       "    .dataframe thead th {\n",
       "        text-align: right;\n",
       "    }\n",
       "</style>\n",
       "<table border=\"1\" class=\"dataframe\">\n",
       "  <thead>\n",
       "    <tr style=\"text-align: right;\">\n",
       "      <th>Hobby</th>\n",
       "      <th>No</th>\n",
       "      <th>Yes</th>\n",
       "    </tr>\n",
       "    <tr>\n",
       "      <th>YearsCoding</th>\n",
       "      <th></th>\n",
       "      <th></th>\n",
       "    </tr>\n",
       "  </thead>\n",
       "  <tbody>\n",
       "    <tr>\n",
       "      <th>0-2 years</th>\n",
       "      <td>2293</td>\n",
       "      <td>8389</td>\n",
       "    </tr>\n",
       "    <tr>\n",
       "      <th>12-14 years</th>\n",
       "      <td>1524</td>\n",
       "      <td>6506</td>\n",
       "    </tr>\n",
       "    <tr>\n",
       "      <th>15-17 years</th>\n",
       "      <td>1217</td>\n",
       "      <td>4900</td>\n",
       "    </tr>\n",
       "    <tr>\n",
       "      <th>18-20 years</th>\n",
       "      <td>1019</td>\n",
       "      <td>4053</td>\n",
       "    </tr>\n",
       "    <tr>\n",
       "      <th>21-23 years</th>\n",
       "      <td>557</td>\n",
       "      <td>2091</td>\n",
       "    </tr>\n",
       "    <tr>\n",
       "      <th>24-26 years</th>\n",
       "      <td>365</td>\n",
       "      <td>1497</td>\n",
       "    </tr>\n",
       "    <tr>\n",
       "      <th>27-29 years</th>\n",
       "      <td>185</td>\n",
       "      <td>875</td>\n",
       "    </tr>\n",
       "    <tr>\n",
       "      <th>3-5 years</th>\n",
       "      <td>4295</td>\n",
       "      <td>19018</td>\n",
       "    </tr>\n",
       "    <tr>\n",
       "      <th>30 or more years</th>\n",
       "      <td>711</td>\n",
       "      <td>2833</td>\n",
       "    </tr>\n",
       "    <tr>\n",
       "      <th>6-8 years</th>\n",
       "      <td>3395</td>\n",
       "      <td>15943</td>\n",
       "    </tr>\n",
       "    <tr>\n",
       "      <th>9-11 years</th>\n",
       "      <td>2208</td>\n",
       "      <td>9961</td>\n",
       "    </tr>\n",
       "  </tbody>\n",
       "</table>\n",
       "</div>"
      ],
      "text/plain": [
       "Hobby               No    Yes\n",
       "YearsCoding                  \n",
       "0-2 years         2293   8389\n",
       "12-14 years       1524   6506\n",
       "15-17 years       1217   4900\n",
       "18-20 years       1019   4053\n",
       "21-23 years        557   2091\n",
       "24-26 years        365   1497\n",
       "27-29 years        185    875\n",
       "3-5 years         4295  19018\n",
       "30 or more years   711   2833\n",
       "6-8 years         3395  15943\n",
       "9-11 years        2208   9961"
      ]
     },
     "execution_count": 55,
     "metadata": {},
     "output_type": "execute_result"
    }
   ],
   "source": [
    "hobby_years_coding_count = df[['Hobby', 'YearsCoding']].\\\n",
    "groupby(['Hobby', 'YearsCoding']).\\\n",
    "size().\\\n",
    "reset_index(name='counts').\\\n",
    "pivot(index='YearsCoding', columns='Hobby', values='counts')\n",
    "\n",
    "hobby_years_coding_count"
   ]
  },
  {
   "cell_type": "code",
   "execution_count": 56,
   "metadata": {},
   "outputs": [],
   "source": [
    "hobby_years_coding_count.index = hobby_years_coding_count.index.set_categories(['0-2 years', '3-5 years', '6-8 years', '9-11 years', '12-14 years',\n",
    "          '15-17 years', '18-20 years', '21-23 years',\n",
    "          '24-26 years', '27-29 years', '30 or more years'\n",
    "          ])\n",
    "hobby_years_coding_count.sort_index(inplace=True)"
   ]
  },
  {
   "cell_type": "code",
   "execution_count": 57,
   "metadata": {},
   "outputs": [
    {
     "data": {
      "text/html": [
       "<div>\n",
       "<style scoped>\n",
       "    .dataframe tbody tr th:only-of-type {\n",
       "        vertical-align: middle;\n",
       "    }\n",
       "\n",
       "    .dataframe tbody tr th {\n",
       "        vertical-align: top;\n",
       "    }\n",
       "\n",
       "    .dataframe thead th {\n",
       "        text-align: right;\n",
       "    }\n",
       "</style>\n",
       "<table border=\"1\" class=\"dataframe\">\n",
       "  <thead>\n",
       "    <tr style=\"text-align: right;\">\n",
       "      <th>Hobby</th>\n",
       "      <th>No</th>\n",
       "      <th>Yes</th>\n",
       "    </tr>\n",
       "    <tr>\n",
       "      <th>YearsCoding</th>\n",
       "      <th></th>\n",
       "      <th></th>\n",
       "    </tr>\n",
       "  </thead>\n",
       "  <tbody>\n",
       "    <tr>\n",
       "      <th>0-2 years</th>\n",
       "      <td>2293</td>\n",
       "      <td>8389</td>\n",
       "    </tr>\n",
       "    <tr>\n",
       "      <th>3-5 years</th>\n",
       "      <td>4295</td>\n",
       "      <td>19018</td>\n",
       "    </tr>\n",
       "    <tr>\n",
       "      <th>6-8 years</th>\n",
       "      <td>3395</td>\n",
       "      <td>15943</td>\n",
       "    </tr>\n",
       "    <tr>\n",
       "      <th>9-11 years</th>\n",
       "      <td>2208</td>\n",
       "      <td>9961</td>\n",
       "    </tr>\n",
       "    <tr>\n",
       "      <th>12-14 years</th>\n",
       "      <td>1524</td>\n",
       "      <td>6506</td>\n",
       "    </tr>\n",
       "    <tr>\n",
       "      <th>15-17 years</th>\n",
       "      <td>1217</td>\n",
       "      <td>4900</td>\n",
       "    </tr>\n",
       "    <tr>\n",
       "      <th>18-20 years</th>\n",
       "      <td>1019</td>\n",
       "      <td>4053</td>\n",
       "    </tr>\n",
       "    <tr>\n",
       "      <th>21-23 years</th>\n",
       "      <td>557</td>\n",
       "      <td>2091</td>\n",
       "    </tr>\n",
       "    <tr>\n",
       "      <th>24-26 years</th>\n",
       "      <td>365</td>\n",
       "      <td>1497</td>\n",
       "    </tr>\n",
       "    <tr>\n",
       "      <th>27-29 years</th>\n",
       "      <td>185</td>\n",
       "      <td>875</td>\n",
       "    </tr>\n",
       "    <tr>\n",
       "      <th>30 or more years</th>\n",
       "      <td>711</td>\n",
       "      <td>2833</td>\n",
       "    </tr>\n",
       "  </tbody>\n",
       "</table>\n",
       "</div>"
      ],
      "text/plain": [
       "Hobby               No    Yes\n",
       "YearsCoding                  \n",
       "0-2 years         2293   8389\n",
       "3-5 years         4295  19018\n",
       "6-8 years         3395  15943\n",
       "9-11 years        2208   9961\n",
       "12-14 years       1524   6506\n",
       "15-17 years       1217   4900\n",
       "18-20 years       1019   4053\n",
       "21-23 years        557   2091\n",
       "24-26 years        365   1497\n",
       "27-29 years        185    875\n",
       "30 or more years   711   2833"
      ]
     },
     "execution_count": 57,
     "metadata": {},
     "output_type": "execute_result"
    }
   ],
   "source": [
    "hobby_years_coding_count"
   ]
  },
  {
   "cell_type": "code",
   "execution_count": null,
   "metadata": {},
   "outputs": [],
   "source": []
  }
 ],
 "metadata": {
  "kernelspec": {
   "display_name": "Python 3",
   "language": "python",
   "name": "python3"
  },
  "language_info": {
   "codemirror_mode": {
    "name": "ipython",
    "version": 3
   },
   "file_extension": ".py",
   "mimetype": "text/x-python",
   "name": "python",
   "nbconvert_exporter": "python",
   "pygments_lexer": "ipython3",
   "version": "3.7.3"
  }
 },
 "nbformat": 4,
 "nbformat_minor": 2
}
