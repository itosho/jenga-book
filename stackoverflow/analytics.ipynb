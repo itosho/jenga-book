{
 "cells": [
  {
   "cell_type": "code",
   "execution_count": 8,
   "metadata": {},
   "outputs": [
    {
     "name": "stdout",
     "output_type": "stream",
     "text": [
      "<class 'pandas.core.frame.DataFrame'>\n",
      "RangeIndex: 98855 entries, 0 to 98854\n",
      "Columns: 129 entries, Respondent to SurveyEasy\n",
      "dtypes: float64(41), int64(1), object(87)\n",
      "memory usage: 97.3+ MB\n"
     ]
    }
   ],
   "source": [
    "import pandas as pd\n",
    "df = pd.read_csv('survey_results_public.csv', low_memory=False)\n",
    "df.info()"
   ]
  },
  {
   "cell_type": "code",
   "execution_count": 11,
   "metadata": {},
   "outputs": [
    {
     "name": "stdout",
     "output_type": "stream",
     "text": [
      "69\n"
     ]
    }
   ],
   "source": [
    "import numpy as np\n",
    "category_columns = [\n",
    "    column for column in df.columns if df[column].nunique() < 100 and df[column].dtype == np.dtype('O')\n",
    "]\n",
    "print(len(category_columns))"
   ]
  },
  {
   "cell_type": "code",
   "execution_count": 12,
   "metadata": {},
   "outputs": [],
   "source": [
    "for column in category_columns:\n",
    "    df[column] = df[column].astype('category')"
   ]
  },
  {
   "cell_type": "code",
   "execution_count": 17,
   "metadata": {},
   "outputs": [],
   "source": [
    "import json\n",
    "data_dtypes = {column:str(df[column].dtype) for column in df.columns}\n",
    "json.dump(data_dtypes, open('data_dtypes.json', 'w'))"
   ]
  },
  {
   "cell_type": "code",
   "execution_count": 18,
   "metadata": {},
   "outputs": [
    {
     "name": "stdout",
     "output_type": "stream",
     "text": [
      "<class 'pandas.core.frame.DataFrame'>\n",
      "RangeIndex: 98855 entries, 0 to 98854\n",
      "Columns: 129 entries, Respondent to SurveyEasy\n",
      "dtypes: category(69), float64(41), int64(1), object(18)\n",
      "memory usage: 51.8+ MB\n"
     ]
    }
   ],
   "source": [
    "df = pd.read_csv('survey_results_public.csv', dtype=json.load(open('data_dtypes.json')), low_memory=False)\n",
    "df.info()"
   ]
  },
  {
   "cell_type": "code",
   "execution_count": 25,
   "metadata": {},
   "outputs": [
    {
     "data": {
      "text/plain": [
       "['Assembly',\n",
       " 'Bash/Shell',\n",
       " 'C',\n",
       " 'C#',\n",
       " 'C++',\n",
       " 'CSS',\n",
       " 'Clojure',\n",
       " 'Cobol',\n",
       " 'CoffeeScript',\n",
       " 'Delphi/Object Pascal',\n",
       " 'Erlang',\n",
       " 'F#',\n",
       " 'Go',\n",
       " 'Groovy',\n",
       " 'HTML',\n",
       " 'Hack',\n",
       " 'Haskell',\n",
       " 'Java',\n",
       " 'JavaScript',\n",
       " 'Julia',\n",
       " 'Kotlin',\n",
       " 'Lua',\n",
       " 'Matlab',\n",
       " 'Objective-C',\n",
       " 'Ocaml',\n",
       " 'PHP',\n",
       " 'Perl',\n",
       " 'Python',\n",
       " 'R',\n",
       " 'Ruby',\n",
       " 'Rust',\n",
       " 'SQL',\n",
       " 'Scala',\n",
       " 'Swift',\n",
       " 'TypeScript',\n",
       " 'VB.NET',\n",
       " 'VBA',\n",
       " 'Visual Basic 6']"
      ]
     },
     "execution_count": 25,
     "metadata": {},
     "output_type": "execute_result"
    }
   ],
   "source": [
    "language_worked_with = df.LanguageWorkedWith.str.split(';', expand=True)\n",
    "languages = set()\n",
    "for values in language_worked_with.values:\n",
    "    for value in values:\n",
    "        if isinstance(value, str):\n",
    "            languages.add(value)\n",
    "languages = sorted(list(languages))\n",
    "languages"
   ]
  },
  {
   "cell_type": "code",
   "execution_count": 27,
   "metadata": {},
   "outputs": [],
   "source": [
    "def language_dummy_variable(languages):\n",
    "    def _(x):\n",
    "        x = set(x.tolist())\n",
    "        return pd.Series([\n",
    "            True if language in x else False\n",
    "            for language in languages\n",
    "        ])\n",
    "    return _\n",
    "\n",
    "sorted_language_worked_with = language_worked_with.apply(language_dummy_variable(languages), axis=1)\n",
    "sorted_language_worked_with.columns = ['languageWorkedWith_' + language for language in languages]"
   ]
  },
  {
   "cell_type": "code",
   "execution_count": 40,
   "metadata": {},
   "outputs": [
    {
     "data": {
      "text/plain": [
       "languageWorkedWith_JavaScript              54686\n",
       "languageWorkedWith_HTML                    53628\n",
       "languageWorkedWith_CSS                     50979\n",
       "languageWorkedWith_SQL                     44670\n",
       "languageWorkedWith_Java                    35521\n",
       "languageWorkedWith_Bash/Shell              31172\n",
       "languageWorkedWith_Python                  30359\n",
       "languageWorkedWith_C#                      26954\n",
       "languageWorkedWith_PHP                     24071\n",
       "languageWorkedWith_C++                     19872\n",
       "languageWorkedWith_C                       18042\n",
       "languageWorkedWith_TypeScript              13626\n",
       "languageWorkedWith_Ruby                     7911\n",
       "languageWorkedWith_Swift                    6310\n",
       "languageWorkedWith_Assembly                 5760\n",
       "languageWorkedWith_Go                       5532\n",
       "languageWorkedWith_Objective-C              5510\n",
       "languageWorkedWith_VB.NET                   5254\n",
       "languageWorkedWith_R                        4813\n",
       "languageWorkedWith_Matlab                   4564\n",
       "languageWorkedWith_VBA                      3810\n",
       "languageWorkedWith_Kotlin                   3508\n",
       "languageWorkedWith_Scala                    3420\n",
       "languageWorkedWith_Groovy                   3373\n",
       "languageWorkedWith_Perl                     3280\n",
       "languageWorkedWith_Visual Basic 6           3087\n",
       "languageWorkedWith_Lua                      2733\n",
       "languageWorkedWith_CoffeeScript             2603\n",
       "languageWorkedWith_Delphi/Object Pascal     2025\n",
       "languageWorkedWith_Haskell                  1961\n",
       "languageWorkedWith_Rust                     1857\n",
       "languageWorkedWith_F#                       1115\n",
       "languageWorkedWith_Clojure                  1032\n",
       "languageWorkedWith_Erlang                    886\n",
       "languageWorkedWith_Cobol                     590\n",
       "languageWorkedWith_Ocaml                     470\n",
       "languageWorkedWith_Julia                     430\n",
       "languageWorkedWith_Hack                      254\n",
       "dtype: int64"
      ]
     },
     "execution_count": 40,
     "metadata": {},
     "output_type": "execute_result"
    }
   ],
   "source": [
    "sorted_language_worked_with.sum().sort_values(ascending=False)\n",
    "# np.where(sorted_language_worked_with.sum().sort_values(ascending=False).index == 'languageWorkedWith_Python')"
   ]
  },
  {
   "cell_type": "code",
   "execution_count": null,
   "metadata": {},
   "outputs": [],
   "source": []
  }
 ],
 "metadata": {
  "kernelspec": {
   "display_name": "Python 3",
   "language": "python",
   "name": "python3"
  },
  "language_info": {
   "codemirror_mode": {
    "name": "ipython",
    "version": 3
   },
   "file_extension": ".py",
   "mimetype": "text/x-python",
   "name": "python",
   "nbconvert_exporter": "python",
   "pygments_lexer": "ipython3",
   "version": "3.7.3"
  }
 },
 "nbformat": 4,
 "nbformat_minor": 2
}
